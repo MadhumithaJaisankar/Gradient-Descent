{
 "cells": [
  {
   "cell_type": "code",
   "execution_count": 1,
   "id": "4de571c5",
   "metadata": {},
   "outputs": [],
   "source": [
    "import numpy as np\n",
    "import pandas as pd"
   ]
  },
  {
   "cell_type": "code",
   "execution_count": 2,
   "id": "00042c5d",
   "metadata": {},
   "outputs": [],
   "source": [
    "data= pd.read_csv(\"D:\\\\dataset\\\\data_gd.csv\")"
   ]
  },
  {
   "cell_type": "code",
   "execution_count": 3,
   "id": "eda36a22",
   "metadata": {},
   "outputs": [
    {
     "data": {
      "text/html": [
       "<div>\n",
       "<style scoped>\n",
       "    .dataframe tbody tr th:only-of-type {\n",
       "        vertical-align: middle;\n",
       "    }\n",
       "\n",
       "    .dataframe tbody tr th {\n",
       "        vertical-align: top;\n",
       "    }\n",
       "\n",
       "    .dataframe thead th {\n",
       "        text-align: right;\n",
       "    }\n",
       "</style>\n",
       "<table border=\"1\" class=\"dataframe\">\n",
       "  <thead>\n",
       "    <tr style=\"text-align: right;\">\n",
       "      <th></th>\n",
       "      <th>x</th>\n",
       "      <th>y</th>\n",
       "    </tr>\n",
       "  </thead>\n",
       "  <tbody>\n",
       "    <tr>\n",
       "      <th>0</th>\n",
       "      <td>1</td>\n",
       "      <td>6</td>\n",
       "    </tr>\n",
       "    <tr>\n",
       "      <th>1</th>\n",
       "      <td>2</td>\n",
       "      <td>8</td>\n",
       "    </tr>\n",
       "    <tr>\n",
       "      <th>2</th>\n",
       "      <td>3</td>\n",
       "      <td>15</td>\n",
       "    </tr>\n",
       "    <tr>\n",
       "      <th>3</th>\n",
       "      <td>-1</td>\n",
       "      <td>-3</td>\n",
       "    </tr>\n",
       "    <tr>\n",
       "      <th>4</th>\n",
       "      <td>-2</td>\n",
       "      <td>-6</td>\n",
       "    </tr>\n",
       "    <tr>\n",
       "      <th>5</th>\n",
       "      <td>-3</td>\n",
       "      <td>-12</td>\n",
       "    </tr>\n",
       "    <tr>\n",
       "      <th>6</th>\n",
       "      <td>4</td>\n",
       "      <td>17</td>\n",
       "    </tr>\n",
       "    <tr>\n",
       "      <th>7</th>\n",
       "      <td>5</td>\n",
       "      <td>20</td>\n",
       "    </tr>\n",
       "    <tr>\n",
       "      <th>8</th>\n",
       "      <td>6</td>\n",
       "      <td>23</td>\n",
       "    </tr>\n",
       "    <tr>\n",
       "      <th>9</th>\n",
       "      <td>7</td>\n",
       "      <td>31</td>\n",
       "    </tr>\n",
       "  </tbody>\n",
       "</table>\n",
       "</div>"
      ],
      "text/plain": [
       "   x   y\n",
       "0  1   6\n",
       "1  2   8\n",
       "2  3  15\n",
       "3 -1  -3\n",
       "4 -2  -6\n",
       "5 -3 -12\n",
       "6  4  17\n",
       "7  5  20\n",
       "8  6  23\n",
       "9  7  31"
      ]
     },
     "execution_count": 3,
     "metadata": {},
     "output_type": "execute_result"
    }
   ],
   "source": [
    "data.head(10)"
   ]
  },
  {
   "cell_type": "code",
   "execution_count": 4,
   "id": "d3de3684",
   "metadata": {},
   "outputs": [],
   "source": [
    "X= data.drop(['y'],axis=1)\n",
    "Y=data['y']"
   ]
  },
  {
   "cell_type": "code",
   "execution_count": 5,
   "id": "6e0ad35a",
   "metadata": {},
   "outputs": [
    {
     "data": {
      "text/html": [
       "<div>\n",
       "<style scoped>\n",
       "    .dataframe tbody tr th:only-of-type {\n",
       "        vertical-align: middle;\n",
       "    }\n",
       "\n",
       "    .dataframe tbody tr th {\n",
       "        vertical-align: top;\n",
       "    }\n",
       "\n",
       "    .dataframe thead th {\n",
       "        text-align: right;\n",
       "    }\n",
       "</style>\n",
       "<table border=\"1\" class=\"dataframe\">\n",
       "  <thead>\n",
       "    <tr style=\"text-align: right;\">\n",
       "      <th></th>\n",
       "      <th>x</th>\n",
       "    </tr>\n",
       "  </thead>\n",
       "  <tbody>\n",
       "    <tr>\n",
       "      <th>0</th>\n",
       "      <td>1</td>\n",
       "    </tr>\n",
       "    <tr>\n",
       "      <th>1</th>\n",
       "      <td>2</td>\n",
       "    </tr>\n",
       "    <tr>\n",
       "      <th>2</th>\n",
       "      <td>3</td>\n",
       "    </tr>\n",
       "    <tr>\n",
       "      <th>3</th>\n",
       "      <td>-1</td>\n",
       "    </tr>\n",
       "    <tr>\n",
       "      <th>4</th>\n",
       "      <td>-2</td>\n",
       "    </tr>\n",
       "    <tr>\n",
       "      <th>5</th>\n",
       "      <td>-3</td>\n",
       "    </tr>\n",
       "    <tr>\n",
       "      <th>6</th>\n",
       "      <td>4</td>\n",
       "    </tr>\n",
       "    <tr>\n",
       "      <th>7</th>\n",
       "      <td>5</td>\n",
       "    </tr>\n",
       "    <tr>\n",
       "      <th>8</th>\n",
       "      <td>6</td>\n",
       "    </tr>\n",
       "    <tr>\n",
       "      <th>9</th>\n",
       "      <td>7</td>\n",
       "    </tr>\n",
       "  </tbody>\n",
       "</table>\n",
       "</div>"
      ],
      "text/plain": [
       "   x\n",
       "0  1\n",
       "1  2\n",
       "2  3\n",
       "3 -1\n",
       "4 -2\n",
       "5 -3\n",
       "6  4\n",
       "7  5\n",
       "8  6\n",
       "9  7"
      ]
     },
     "execution_count": 5,
     "metadata": {},
     "output_type": "execute_result"
    }
   ],
   "source": [
    "X"
   ]
  },
  {
   "cell_type": "code",
   "execution_count": 6,
   "id": "188035d0",
   "metadata": {},
   "outputs": [
    {
     "data": {
      "text/plain": [
       "0     6\n",
       "1     8\n",
       "2    15\n",
       "3    -3\n",
       "4    -6\n",
       "5   -12\n",
       "6    17\n",
       "7    20\n",
       "8    23\n",
       "9    31\n",
       "Name: y, dtype: int64"
      ]
     },
     "execution_count": 6,
     "metadata": {},
     "output_type": "execute_result"
    }
   ],
   "source": [
    "Y"
   ]
  },
  {
   "cell_type": "code",
   "execution_count": 7,
   "id": "71af92f9",
   "metadata": {},
   "outputs": [],
   "source": [
    "def percentage_difference(value1, value2):\n",
    "    return ((value1 - value2)/((value1+value2)/2))*100"
   ]
  },
  {
   "cell_type": "code",
   "execution_count": 8,
   "id": "292a2561",
   "metadata": {},
   "outputs": [],
   "source": [
    "def compute_cost(y_pred,y):\n",
    "    return np.mean((y_pred-y)**2)"
   ]
  },
  {
   "cell_type": "code",
   "execution_count": 9,
   "id": "4adfdb38",
   "metadata": {
    "scrolled": true
   },
   "outputs": [
    {
     "name": "stdout",
     "output_type": "stream",
     "text": [
      "epoch= 0 w1= 8.675 b= 9.53 cost= 598.5\n",
      "epoch= 500 w1= 3.5615882761538877 b= 2.7889839309642523 cost= 1.5291565683887471\n",
      "epoch= 1000 w1= 3.902098507086693 b= 1.787842327927706 cost= 1.2639207348403687\n",
      "epoch= 1326 w1= 3.963163633983533 b= 1.6083034081611605 cost= 1.2519707752131666\n",
      "Converged!\n",
      "final updated weight and bias 3.963163633983533 1.6083034081611605\n"
     ]
    },
    {
     "name": "stderr",
     "output_type": "stream",
     "text": [
      "<ipython-input-7-2b67ded65332>:2: RuntimeWarning: invalid value encountered in double_scalars\n",
      "  return ((value1 - value2)/((value1+value2)/2))*100\n"
     ]
    }
   ],
   "source": [
    "def gd(X,y,w1,b,learning_rate,batch_size):\n",
    "    m=len(y)\n",
    "    count=0\n",
    "    j=0\n",
    "    initial_cost = float('inf')\n",
    "    tolerance = 0.001\n",
    "    while True:\n",
    "        y_pred = w1*X + b\n",
    "        cost=np.mean((y_pred-y)**2)\n",
    "        gradient_b = -2*np.mean(y-y_pred)\n",
    "        gradient_w1 = -2*np.mean((y-y_pred)*X)\n",
    "        \n",
    "        w1-=learning_rate*gradient_w1\n",
    "        b-=learning_rate*gradient_b\n",
    "        \n",
    "        percent_diff =abs( percentage_difference(initial_cost,cost))\n",
    "        if percent_diff<tolerance:\n",
    "            count+=1\n",
    "        else:\n",
    "            count=0\n",
    "        \n",
    "        if(j%500==0):\n",
    "            print(\"epoch=\",j,\"w1=\",w1,\"b=\",b,\"cost=\",cost)\n",
    "        if(count==10):\n",
    "            print(\"epoch=\",j,\"w1=\",w1,\"b=\",b,\"cost=\",cost)\n",
    "            print(\"Converged!\")\n",
    "            break\n",
    "        Cost.append(cost)\n",
    "        initial_cost=cost\n",
    "        j+=1\n",
    "        \n",
    "    return w1,b\n",
    "\n",
    "\n",
    "\n",
    "X1 = np.array([1,2,3,4])\n",
    "Y1 = np.array([6,8,15,17])\n",
    "\n",
    "w1=10\n",
    "b=10\n",
    "learning_rate=0.01\n",
    "Cost=[]\n",
    "n=len(Y1)\n",
    "weight, bias = gd(X1,Y1,w1,b,learning_rate,batch_size=n)\n",
    "print(\"final updated weight and bias\", weight,bias) "
   ]
  },
  {
   "cell_type": "code",
   "execution_count": 10,
   "id": "98b705a5",
   "metadata": {},
   "outputs": [
    {
     "data": {
      "image/png": "[encoded data removed]",
      "text/plain": [
       "<Figure size 432x288 with 1 Axes>"
      ]
     },
     "metadata": {
      "needs_background": "light"
     },
     "output_type": "display_data"
    }
   ],
   "source": [
    "import matplotlib.pyplot as plt\n",
    "plt.plot(range(len(Cost)), Cost, label='Batch GD')\n",
    "plt.xlabel('Epoch')\n",
    "plt.ylabel('Loss')\n",
    "plt.title('Batch GD - Epoch vs. Loss')\n",
    "plt.legend()\n",
    "plt.show()"
   ]
  },
  {
   "cell_type": "code",
   "execution_count": 11,
   "id": "0b9b7f60",
   "metadata": {},
   "outputs": [
    {
     "name": "stderr",
     "output_type": "stream",
     "text": [
      "<ipython-input-11-b4e2c1a79443>:34: RuntimeWarning: invalid value encountered in double_scalars\n",
      "  percent_diff = abs((initial_cost - avg_cost) / initial_cost)\n"
     ]
    },
    {
     "name": "stdout",
     "output_type": "stream",
     "text": [
      "epoch= 10000 cost= 1.2675260372890413\n",
      "final updated weight and bias: 4.010266101912092 1.3424473074993597\n"
     ]
    }
   ],
   "source": [
    "def sgd(X, y, w1, b, learning_rate, epochs):\n",
    "    m = len(y)\n",
    "    tolerance = 0.001\n",
    "    initial_cost = float('inf')\n",
    "    count = 0\n",
    "    w1_set=[]\n",
    "    b_set=[]\n",
    "    cost_set=[]\n",
    "    for epoch in range(epochs):\n",
    "        for i in range(m):\n",
    "            random_index = np.random.randint(0, m)\n",
    "            x_batch, y_batch = X[random_index], y[random_index]\n",
    "            \n",
    "            y_pred = w1 * x_batch + b\n",
    "            cost = (y_batch - y_pred) ** 2\n",
    "            \n",
    "            gradient_b = -2 * (y_batch - y_pred)\n",
    "            gradient_w1 = -2 * ((y_batch - y_pred) * x_batch)\n",
    "        \n",
    "            w1 -= learning_rate * gradient_w1\n",
    "            b -= learning_rate * gradient_b\n",
    "            \n",
    "            w1_set.append(w1)\n",
    "            b_set.append(b)\n",
    "            cost_set.append(cost)\n",
    "            \n",
    "        Weight.append(w1_set)\n",
    "        Bias.append(b_set)\n",
    "        Loss.append(cost_set)\n",
    "        predictions = w1 * X + b\n",
    "        avg_cost = np.mean((y - predictions) ** 2)\n",
    "        \n",
    "        # Check convergence\n",
    "        percent_diff = abs((initial_cost - avg_cost) / initial_cost)\n",
    "        if percent_diff < tolerance:\n",
    "            count += 1\n",
    "        else:\n",
    "            count = 0\n",
    "        \n",
    "        if count == 10:\n",
    "            print(\"Converged!\")\n",
    "            break\n",
    "        \n",
    "        Loss_history.append(avg_cost)\n",
    "        initial_cost = avg_cost\n",
    "    print(\"epoch=\",epoch+1,\"cost=\",avg_cost)\n",
    "    return w1, b, Weight, Bias, Loss\n",
    "\n",
    "#X1 = np.array([1, 2, 3, -1, -2, -3, 4, 5, 6, 7])\n",
    "#Y1 = np.array([6, 8, 15, -3, -6, -12, 17, 20, 23, 31])\n",
    "X1 = np.array([1,2,3,4])\n",
    "Y1 = np.array([6,8,15,17])\n",
    "w1 = 5.9\n",
    "b = -0.2\n",
    "learning_rate = 0.01\n",
    "epochs = 10000\n",
    "Loss_history=[]\n",
    "Weight=[]\n",
    "Bias=[]\n",
    "Loss=[]\n",
    "sto_weight, sto_bias,Weight, Bias, Loss = sgd(X1, Y1, w1, b, learning_rate, epochs)\n",
    "print(\"final updated weight and bias:\", sto_weight, sto_bias)\n"
   ]
  },
  {
   "cell_type": "code",
   "execution_count": 12,
   "id": "8ea637ef",
   "metadata": {},
   "outputs": [
    {
     "data": {
      "image/png": "[encoded data removed]",
      "text/plain": [
       "<Figure size 432x288 with 1 Axes>"
      ]
     },
     "metadata": {
      "needs_background": "light"
     },
     "output_type": "display_data"
    }
   ],
   "source": [
    "import matplotlib.pyplot as plt\n",
    "plt.plot(range(len(Loss_history)), Loss_history, label='Stochastic GD')\n",
    "plt.xlabel('Epoch')\n",
    "plt.ylabel('Loss')\n",
    "plt.title('Stochastic GD - Epoch vs. Loss')\n",
    "plt.legend()\n",
    "plt.show()"
   ]
  },
  {
   "cell_type": "code",
   "execution_count": 13,
   "id": "bf1ec969",
   "metadata": {},
   "outputs": [
    {
     "name": "stdout",
     "output_type": "stream",
     "text": [
      "Converged!\n",
      "epoch= 2875 cost= 1.2548976329379768\n",
      "Final updated weight and bias: 3.9474322719617234 1.669411758805179\n"
     ]
    },
    {
     "name": "stderr",
     "output_type": "stream",
     "text": [
      "<ipython-input-7-2b67ded65332>:2: RuntimeWarning: invalid value encountered in double_scalars\n",
      "  return ((value1 - value2)/((value1+value2)/2))*100\n"
     ]
    }
   ],
   "source": [
    "def mini_batch_gd(X, y, w1, b, learning_rate, batch_size, epochs):\n",
    "    m = len(y)\n",
    "    tolerance = 0.001\n",
    "    initial_cost = float('inf')\n",
    "    count = 0\n",
    "    \n",
    "    for epoch in range(epochs):\n",
    "        for i in range(0, m, batch_size):\n",
    "            x_batch, y_batch = X[i:i+batch_size], y[i:i+batch_size]\n",
    "            \n",
    "            y_pred = np.dot(x_batch, w1) + b\n",
    "            cost = np.mean((y_batch - y_pred) ** 2)\n",
    "            \n",
    "            gradient_b = -2 * np.mean(y_batch - y_pred)\n",
    "            gradient_w1 = -2 * np.dot(x_batch.T, (y_batch - y_pred)) / batch_size\n",
    "\n",
    "            w1 -= learning_rate * gradient_w1\n",
    "            b -= learning_rate * gradient_b\n",
    "        \n",
    "        predictions = w1*X + b\n",
    "        avg_cost = np.mean((y - predictions) ** 2)\n",
    "        \n",
    "        # Check convergence\n",
    "        percent_diff = abs(percentage_difference(initial_cost,avg_cost))\n",
    "        if percent_diff < tolerance:\n",
    "            count += 1\n",
    "        else:\n",
    "            count = 0\n",
    "        \n",
    "        if count == 10:\n",
    "            print(\"Converged!\")\n",
    "            break\n",
    "        Cost_mb.append(avg_cost)\n",
    "        initial_cost = avg_cost\n",
    "    print(\"epoch=\",epoch,\"cost=\",avg_cost)\n",
    "    return w1, b\n",
    "\n",
    "\n",
    "# Example usage\n",
    "#X1 = np.array([1, 2, 3, -1, -2, -3, 4, 5, 6, 7])\n",
    "#Y1 = np.array([6, 8, 15, -3, -6, -12, 17, 20, 23, 31])\n",
    "X1 = np.array([1,2,3,4])\n",
    "Y1 = np.array([6,8,15,17])\n",
    "# Initialize w1 as a column vector with shape (num_features, 1)\n",
    "w1 = 10\n",
    "b = 10  # Initial bias\n",
    "learning_rate = 0.002\n",
    "batch_size = 2\n",
    "epochs = 5000  # Adjust as needed\n",
    "Cost_mb=[]\n",
    "# Call mini-batch gradient descent function\n",
    "minibatch_weight, minibatch_bias = mini_batch_gd(X1, Y1, w1, b, learning_rate, batch_size, epochs)\n",
    "print(\"Final updated weight and bias:\", minibatch_weight, minibatch_bias)\n"
   ]
  },
  {
   "cell_type": "code",
   "execution_count": 16,
   "id": "277015b1",
   "metadata": {},
   "outputs": [
    {
     "data": {
      "image/png": "[encoded data removed]",
      "text/plain": [
       "<Figure size 432x288 with 1 Axes>"
      ]
     },
     "metadata": {
      "needs_background": "light"
     },
     "output_type": "display_data"
    }
   ],
   "source": [
    "plt.plot(range(len(Cost_mb)), Cost_mb, label='Mini-batch Stochastic GD')\n",
    "plt.xlabel('Epoch')\n",
    "plt.ylabel('Loss')\n",
    "plt.title('Mini-batch Stochastic GD - Epoch vs. Loss')\n",
    "plt.legend()\n",
    "plt.show()"
   ]
  },
  {
   "cell_type": "code",
   "execution_count": null,
   "id": "0a2d8ff6",
   "metadata": {},
   "outputs": [],
   "source": []
  }
 ],
 "metadata": {
  "kernelspec": {
   "display_name": "Python 3",
   "language": "python",
   "name": "python3"
  },
  "language_info": {
   "codemirror_mode": {
    "name": "ipython",
    "version": 3
   },
   "file_extension": ".py",
   "mimetype": "text/x-python",
   "name": "python",
   "nbconvert_exporter": "python",
   "pygments_lexer": "ipython3",
   "version": "3.8.8"
  }
 },
 "nbformat": 4,
 "nbformat_minor": 5
}
